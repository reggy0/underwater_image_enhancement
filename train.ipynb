{
  "nbformat": 4,
  "nbformat_minor": 0,
  "metadata": {
    "colab": {
      "name": "train.ipynb",
      "provenance": [],
      "authorship_tag": "ABX9TyOcvowvdZjILpmhXIprCQlR",
      "include_colab_link": true
    },
    "kernelspec": {
      "name": "python3",
      "display_name": "Python 3"
    },
    "language_info": {
      "name": "python"
    }
  },
  "cells": [
    {
      "cell_type": "markdown",
      "metadata": {
        "id": "view-in-github",
        "colab_type": "text"
      },
      "source": [
        "<a href=\"https://colab.research.google.com/github/reggy0/underwater_image_enhancement/blob/main/train.ipynb\" target=\"_parent\"><img src=\"https://colab.research.google.com/assets/colab-badge.svg\" alt=\"Open In Colab\"/></a>"
      ]
    },
    {
      "cell_type": "code",
      "execution_count": null,
      "metadata": {
        "id": "2iX_uoPKyjt1"
      },
      "outputs": [],
      "source": [
        "import time\n",
        "from tqdm import tqdm\n",
        "from data import create_dataset\n",
        "from model import create_model\n",
        "from options.TrainOptions import TrainOptions\n",
        "from utils.TrainStats import TrainStats\n",
        "from utils.setup_cloud import setup_cloud\n",
        "\n",
        "if __name__ == '__main__':\n",
        "    opt = TrainOptions().parse()\n",
        "    opt = setup_cloud(opt)\n",
        "\n",
        "    dataset = create_dataset(dataroot=opt.training_data_dir, subdir=opt.training_subdir, phase=opt.phase,\n",
        "                             serial_batches=opt.serial_batches, preprocess=opt.preprocess, no_flip=opt.no_flip,\n",
        "                             load_size=opt.load_size, crop_size=opt.crop_size, batch_size=opt.batch_size,\n",
        "                             is_distributed=opt.is_distributed, use_cuda=opt.use_cuda, is_test=False)\n",
        "\n",
        "    dataset_size = len(dataset)\n",
        "    opt.logger.info('The number of training images = %d' % dataset_size)\n",
        "\n",
        "    model = create_model(opt)\n",
        "    stats = TrainStats(opt)\n",
        "\n",
        "    # Training\n",
        "    for epoch in range(opt.epoch_count, opt.n_epochs + opt.n_epochs_decay):\n",
        "        opt.logger.info(f\"Training {epoch}/{opt.n_epochs + opt.n_epochs_decay}\")\n",
        "\n",
        "        # Training\n",
        "        epoch_start_time = time.time()\n",
        "        model.train()\n",
        "        with tqdm(dataset, unit=\"batch\") as t_epoch:\n",
        "            for data in t_epoch:\n",
        "                model.feed_input(data)\n",
        "                model.optimize_parameters()\n",
        "\n",
        "        training_end_time = time.time()\n",
        "        # Training block ends\n",
        "\n",
        "        # Evaluation\n",
        "        model.eval()\n",
        "        t_data = training_end_time - epoch_start_time  # Training Time\n",
        "        t_comp = t_data / opt.batch_size  # Single input time\n",
        "\n",
        "        # Save model generated images and losses\n",
        "        if epoch % opt.visuals_freq == 0:\n",
        "            opt.logger.info(f\"Saving Visuals (epoch: {epoch})\")\n",
        "            stats.save_current_visuals(model.get_current_visuals(), f'img-{epoch}')\n",
        "            stats.print_current_losses(epoch, model.get_current_losses(), t_comp, t_data)\n",
        "\n",
        "        # Save model artifacts\n",
        "        if epoch % opt.artifact_freq == 0:\n",
        "            opt.logger.info(f'saving the model at the end of epoch {epoch}')\n",
        "            model.save_networks(str(epoch))\n",
        "            model.save_optimizers_and_scheduler(str(epoch))\n",
        "        # Evaluation block ends\n",
        "\n",
        "        opt.logger.info(f'End of epoch {epoch} / {opt.n_epochs + opt.n_epochs_decay} \\t '\n",
        "                        f'Time Taken: {time.time() - epoch_start_time} sec')\n",
        "\n",
        "        model.update_learning_rate()\n",
        "\n",
        "    opt.logger.info(\"End of training!!!\")"
      ]
    }
  ]
}