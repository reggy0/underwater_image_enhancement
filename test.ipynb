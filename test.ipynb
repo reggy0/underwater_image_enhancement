{
  "nbformat": 4,
  "nbformat_minor": 0,
  "metadata": {
    "colab": {
      "name": "test.ipynb",
      "provenance": [],
      "authorship_tag": "ABX9TyMpGjAlIPLoln6WEHjBDeeY",
      "include_colab_link": true
    },
    "kernelspec": {
      "name": "python3",
      "display_name": "Python 3"
    },
    "language_info": {
      "name": "python"
    }
  },
  "cells": [
    {
      "cell_type": "markdown",
      "metadata": {
        "id": "view-in-github",
        "colab_type": "text"
      },
      "source": [
        "<a href=\"https://colab.research.google.com/github/reggy0/underwater_image_enhancement/blob/main/test.ipynb\" target=\"_parent\"><img src=\"https://colab.research.google.com/assets/colab-badge.svg\" alt=\"Open In Colab\"/></a>"
      ]
    },
    {
      "cell_type": "code",
      "execution_count": null,
      "metadata": {
        "id": "At_IeVmSx74I"
      },
      "outputs": [],
      "source": [
        "from tqdm import tqdm\n",
        "\n",
        "from data import create_dataset\n",
        "from model import create_model\n",
        "from options.TestOptions import TestOptions\n",
        "from utils.TestVisualizer import TestVisualizer\n",
        "from utils.setup_cloud import setup_cloud\n",
        "\n",
        "\n",
        "def main():\n",
        "    opt = TestOptions().parse()\n",
        "    opt = setup_cloud(opt)\n",
        "    opt.num_threads = 0  # test code only supports num_threads = 1\n",
        "    opt.batch_size = 1  # test code only supports batch_size = 1\n",
        "    opt.no_flip = True  # no flip; comment this line if results on flipped images are needed.\n",
        "\n",
        "    # Visualizer\n",
        "    viz = TestVisualizer(opt)\n",
        "\n",
        "    # Dataset\n",
        "    dataset = create_dataset(dataroot=opt.test_dataset_dir, subdir=opt.test_subdir, phase=opt.phase,\n",
        "                             serial_batches=opt.serial_batches, preprocess=opt.preprocess, no_flip=opt.no_flip,\n",
        "                             load_size=opt.load_size, crop_size=opt.crop_size, batch_size=opt.batch_size,\n",
        "                             is_distributed=opt.is_distributed, use_cuda=opt.use_cuda, is_test=True)\n",
        "\n",
        "    # setup Gan\n",
        "    cycleGan = create_model(opt)\n",
        "    cycleGan.load_networks(opt.load_model)\n",
        "\n",
        "    if opt.all:\n",
        "        with tqdm(dataset, unit=\"batch\") as t_epoch:\n",
        "            for data in t_epoch:\n",
        "                cycleGan.feed_input(data)\n",
        "                cycleGan.compute_visuals()\n",
        "                viz.add_inference(cycleGan.get_current_visuals(), cycleGan.get_current_image_path())\n",
        "    else:\n",
        "        dataset_iter = iter(dataset)\n",
        "        no_of_examples = int(opt.examples)\n",
        "        opt.logger.info(f\"Testing for {no_of_examples} examples\")\n",
        "        for i in range(no_of_examples):\n",
        "            opt.logger.info(f\"running {i} out of {no_of_examples}\")\n",
        "            data = next(dataset_iter)\n",
        "            cycleGan.feed_input(data)\n",
        "            cycleGan.compute_visuals()\n",
        "            viz.add_inference(cycleGan.get_current_visuals(), cycleGan.get_current_image_path())\n",
        "\n",
        "    viz.display_inference()\n",
        "\n",
        "\n",
        "if __name__ == '__main__':\n",
        "    main()"
      ]
    }
  ]
}