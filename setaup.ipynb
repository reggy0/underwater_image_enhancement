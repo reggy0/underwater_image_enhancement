{
  "nbformat": 4,
  "nbformat_minor": 0,
  "metadata": {
    "colab": {
      "name": "setaup.ipynb",
      "provenance": [],
      "authorship_tag": "ABX9TyPlL+dTQAey7sk7P0/bT3H/",
      "include_colab_link": true
    },
    "kernelspec": {
      "name": "python3",
      "display_name": "Python 3"
    },
    "language_info": {
      "name": "python"
    }
  },
  "cells": [
    {
      "cell_type": "markdown",
      "metadata": {
        "id": "view-in-github",
        "colab_type": "text"
      },
      "source": [
        "<a href=\"https://colab.research.google.com/github/reggy0/underwater_image_enhancement/blob/main/setaup.ipynb\" target=\"_parent\"><img src=\"https://colab.research.google.com/assets/colab-badge.svg\" alt=\"Open In Colab\"/></a>"
      ]
    },
    {
      "cell_type": "code",
      "execution_count": null,
      "metadata": {
        "id": "xaFhacfLw8wo"
      },
      "outputs": [],
      "source": [
        "from setuptools import find_packages, setup\n",
        "\n",
        "REQUIRED_PACKAGES = [\n",
        "    'numpy>=1.18.5',\n",
        "    'pillow>=7.2.0'\n",
        "]\n",
        "\n",
        "setup(\n",
        "    name='trainer',\n",
        "    version='0.1',\n",
        "    install_requires=REQUIRED_PACKAGES,\n",
        "    packages=find_packages(),\n",
        "    include_package_data=True,\n",
        "    description='Underwater Image Enhancement'\n",
        ")"
      ]
    },
    {
      "cell_type": "code",
      "source": [
        ""
      ],
      "metadata": {
        "id": "AwbIfBFFxNvK"
      },
      "execution_count": null,
      "outputs": []
    }
  ]
}