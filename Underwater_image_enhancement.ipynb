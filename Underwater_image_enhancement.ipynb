{
  "nbformat": 4,
  "nbformat_minor": 0,
  "metadata": {
    "colab": {
      "name": "Underwater_image_enhancement.ipynb",
      "provenance": [],
      "authorship_tag": "ABX9TyONr6L6x4I6Ms3aV2uvucHf",
      "include_colab_link": true
    },
    "kernelspec": {
      "name": "python3",
      "display_name": "Python 3"
    },
    "language_info": {
      "name": "python"
    }
  },
  "cells": [
    {
      "cell_type": "markdown",
      "metadata": {
        "id": "view-in-github",
        "colab_type": "text"
      },
      "source": [
        "<a href=\"https://colab.research.google.com/github/reggy0/underwater_image_enhancement/blob/main/Underwater_image_enhancement.ipynb\" target=\"_parent\"><img src=\"https://colab.research.google.com/assets/colab-badge.svg\" alt=\"Open In Colab\"/></a>"
      ]
    },
    {
      "cell_type": "code",
      "execution_count": 1,
      "metadata": {
        "colab": {
          "base_uri": "https://localhost:8080/"
        },
        "id": "vd8BGCIo-kGU",
        "outputId": "89a760d5-cac1-44ae-b971-09adadf925fd"
      },
      "outputs": [
        {
          "output_type": "stream",
          "name": "stdout",
          "text": [
            "Cloning into 'Underwater-image-enhancement'...\n",
            "remote: Enumerating objects: 1173, done.\u001b[K\n",
            "remote: Counting objects: 100% (1173/1173), done.\u001b[K\n",
            "remote: Compressing objects: 100% (713/713), done.\u001b[K\n",
            "remote: Total 1173 (delta 725), reused 887 (delta 440), pack-reused 0\u001b[K\n",
            "Receiving objects: 100% (1173/1173), 10.59 MiB | 11.50 MiB/s, done.\n",
            "Resolving deltas: 100% (725/725), done.\n"
          ]
        }
      ],
      "source": [
        "!git clone https://github.com/darkmatter18/Underwater-image-enhancement.git"
      ]
    },
    {
      "cell_type": "code",
      "source": [
        ""
      ],
      "metadata": {
        "id": "rXfQrtAL_kbK"
      },
      "execution_count": null,
      "outputs": []
    }
  ]
}